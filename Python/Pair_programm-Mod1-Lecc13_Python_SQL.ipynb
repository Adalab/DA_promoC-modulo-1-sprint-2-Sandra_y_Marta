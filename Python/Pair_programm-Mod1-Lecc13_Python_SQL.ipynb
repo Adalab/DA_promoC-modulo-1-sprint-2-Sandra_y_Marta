{
 "cells": [
  {
   "cell_type": "markdown",
   "metadata": {},
   "source": [
    "1"
   ]
  },
  {
   "cell_type": "code",
   "execution_count": 1,
   "metadata": {},
   "outputs": [],
   "source": [
    "import mysql.connector"
   ]
  },
  {
   "cell_type": "code",
   "execution_count": 2,
   "metadata": {},
   "outputs": [
    {
     "name": "stdout",
     "output_type": "stream",
     "text": [
      "('BD_Alumna',)\n",
      "('BD_pruebas',)\n",
      "('Project_1',)\n",
      "('creacion_tienda',)\n",
      "('information_schema',)\n",
      "('mysql',)\n",
      "('northwind',)\n",
      "('performance_schema',)\n",
      "('project-da-promo-C-module-1-team-5',)\n",
      "('sys',)\n",
      "('tienda',)\n",
      "('tienda_zapatillas',)\n"
     ]
    }
   ],
   "source": [
    "mydb = mysql.connector.connect(user='root', password='AlumnaAdalab',\n",
    "                              host='127.0.0.1', database='northwind')\n",
    "\n",
    "mycursor = mydb.cursor()         \n",
    "mycursor.execute(\"SHOW DATABASES\")                     \n",
    "\n",
    "for x in mycursor:\n",
    "    print(x)"
   ]
  },
  {
   "cell_type": "markdown",
   "metadata": {},
   "source": [
    "2"
   ]
  },
  {
   "cell_type": "code",
   "execution_count": 17,
   "metadata": {},
   "outputs": [
    {
     "name": "stdout",
     "output_type": "stream",
     "text": [
      "[('categories',), ('customer_customer_demo',), ('customer_demographics',), ('customers',), ('employee_territories',), ('employees',), ('order_details',), ('orders',), ('products',), ('region',), ('shippers',), ('suppliers',), ('territories',)]\n"
     ]
    }
   ],
   "source": [
    "mydb = mysql.connector.connect(user='root', password='AlumnaAdalab',\n",
    "                              host='127.0.0.1', database='northwind')    \n",
    "lista_tuplas = []\n",
    "mycursor = mydb.cursor()         \n",
    "mycursor.execute(\"SHOW TABLES\")                     \n",
    "\n",
    "for i in mycursor:\n",
    "    lista_tuplas.append(i)\n",
    "\n",
    "print(lista_tuplas)    "
   ]
  },
  {
   "cell_type": "markdown",
   "metadata": {},
   "source": [
    "3"
   ]
  },
  {
   "cell_type": "code",
   "execution_count": 19,
   "metadata": {},
   "outputs": [],
   "source": [
    "lista_tablas = []\n",
    "for i in lista_tuplas:\n",
    "    for n in i:\n",
    "        lista_tablas.append(n)\n",
    "        \n"
   ]
  },
  {
   "cell_type": "code",
   "execution_count": 20,
   "metadata": {},
   "outputs": [
    {
     "data": {
      "text/plain": [
       "['categories',\n",
       " 'customer_customer_demo',\n",
       " 'customer_demographics',\n",
       " 'customers',\n",
       " 'employee_territories',\n",
       " 'employees',\n",
       " 'order_details',\n",
       " 'orders',\n",
       " 'products',\n",
       " 'region',\n",
       " 'shippers',\n",
       " 'suppliers',\n",
       " 'territories']"
      ]
     },
     "execution_count": 20,
     "metadata": {},
     "output_type": "execute_result"
    }
   ],
   "source": [
    "lista_tablas"
   ]
  },
  {
   "cell_type": "code",
   "execution_count": 30,
   "metadata": {},
   "outputs": [
    {
     "name": "stdout",
     "output_type": "stream",
     "text": [
      "('category_id', b'int', 'NO', 'PRI', None, 'auto_increment')\n",
      "('category_name', b'varchar(15)', 'NO', 'MUL', None, '')\n",
      "('description', b'longtext', 'YES', '', None, '')\n",
      "('picture', b'longblob', 'YES', '', None, '')\n",
      "('customer_id', b'char(5)', 'NO', 'PRI', None, '')\n",
      "('customertype_id', b'char(10)', 'NO', 'PRI', None, '')\n",
      "('customer_type_id', b'char(10)', 'NO', 'PRI', None, '')\n",
      "('customer_desc', b'longtext', 'YES', '', None, '')\n",
      "('customer_id', b'char(5)', 'NO', 'PRI', None, '')\n",
      "('company_name', b'varchar(40)', 'NO', 'MUL', None, '')\n",
      "('contact_name', b'varchar(30)', 'YES', '', None, '')\n",
      "('contact_title', b'varchar(30)', 'YES', '', None, '')\n",
      "('address', b'varchar(60)', 'YES', '', None, '')\n",
      "('city', b'varchar(15)', 'YES', 'MUL', None, '')\n",
      "('region', b'varchar(15)', 'YES', 'MUL', None, '')\n",
      "('postal_code', b'varchar(10)', 'YES', 'MUL', None, '')\n",
      "('country', b'varchar(15)', 'YES', '', None, '')\n",
      "('phone', b'varchar(24)', 'YES', '', None, '')\n",
      "('fax', b'varchar(24)', 'YES', '', None, '')\n",
      "('employee_id', b'int', 'NO', 'PRI', None, '')\n",
      "('territory_id', b'varchar(20)', 'NO', 'PRI', None, '')\n",
      "('employee_id', b'int', 'NO', 'PRI', None, 'auto_increment')\n",
      "('last_name', b'varchar(20)', 'NO', 'MUL', None, '')\n",
      "('first_name', b'varchar(10)', 'NO', '', None, '')\n",
      "('title', b'varchar(30)', 'YES', '', None, '')\n",
      "('title_of_courtesy', b'varchar(25)', 'YES', '', None, '')\n",
      "('birth_date', b'datetime', 'YES', '', None, '')\n",
      "('hire_date', b'datetime', 'YES', '', None, '')\n",
      "('address', b'varchar(60)', 'YES', '', None, '')\n",
      "('city', b'varchar(15)', 'YES', '', None, '')\n",
      "('region', b'varchar(15)', 'YES', '', None, '')\n",
      "('postal_code', b'varchar(10)', 'YES', 'MUL', None, '')\n",
      "('country', b'varchar(15)', 'YES', '', None, '')\n",
      "('home_phone', b'varchar(24)', 'YES', '', None, '')\n",
      "('extension', b'varchar(4)', 'YES', '', None, '')\n",
      "('photo', b'longblob', 'YES', '', None, '')\n",
      "('notes', b'longtext', 'YES', '', None, '')\n",
      "('reports_to', b'int', 'YES', 'MUL', None, '')\n",
      "('photo_path', b'varchar(255)', 'YES', '', None, '')\n",
      "('order_id', b'int', 'NO', 'PRI', None, '')\n",
      "('product_id', b'int', 'NO', 'PRI', None, '')\n",
      "('unit_price', b'double', 'NO', '', b'0', '')\n",
      "('quantity', b'smallint', 'NO', '', b'0', '')\n",
      "('discount', b'double', 'NO', '', b'0', '')\n",
      "('order_id', b'int', 'NO', 'PRI', None, 'auto_increment')\n",
      "('customer_id', b'char(5)', 'YES', 'MUL', None, '')\n",
      "('employee_id', b'int', 'YES', 'MUL', None, '')\n",
      "('order_date', b'datetime', 'YES', 'MUL', None, '')\n",
      "('required_date', b'datetime', 'YES', '', None, '')\n",
      "('shipped_date', b'datetime', 'YES', 'MUL', None, '')\n",
      "('ship_via', b'int', 'YES', 'MUL', None, '')\n",
      "('freight', b'double', 'YES', '', b'0', '')\n",
      "('ship_name', b'varchar(40)', 'YES', '', None, '')\n",
      "('ship_address', b'varchar(60)', 'YES', '', None, '')\n",
      "('ship_city', b'varchar(15)', 'YES', '', None, '')\n",
      "('ship_region', b'varchar(15)', 'YES', '', None, '')\n",
      "('ship_postal_code', b'varchar(10)', 'YES', 'MUL', None, '')\n",
      "('ship_country', b'varchar(15)', 'YES', '', None, '')\n",
      "('product_id', b'int', 'NO', 'PRI', None, 'auto_increment')\n",
      "('product_name', b'varchar(40)', 'NO', 'MUL', None, '')\n",
      "('supplier_id', b'int', 'YES', 'MUL', None, '')\n",
      "('category_id', b'int', 'YES', 'MUL', None, '')\n",
      "('quantity_per_unit', b'varchar(20)', 'YES', '', None, '')\n",
      "('unit_price', b'double', 'YES', '', b'0', '')\n",
      "('units_in_stock', b'smallint', 'YES', '', b'0', '')\n",
      "('units_on_order', b'smallint', 'YES', '', b'0', '')\n",
      "('reorder_level', b'smallint', 'YES', '', b'0', '')\n",
      "('discontinued', b'tinyint(1)', 'NO', '', b'0', '')\n",
      "('region_id', b'int', 'NO', 'PRI', None, '')\n",
      "('region_description', b'char(50)', 'NO', '', None, '')\n",
      "('shipper_id', b'int', 'NO', 'PRI', None, 'auto_increment')\n",
      "('company_name', b'varchar(40)', 'NO', '', None, '')\n",
      "('phone', b'varchar(24)', 'YES', '', None, '')\n",
      "('supplier_id', b'int', 'NO', 'PRI', None, 'auto_increment')\n",
      "('company_name', b'varchar(40)', 'NO', 'MUL', None, '')\n",
      "('contact_name', b'varchar(30)', 'YES', '', None, '')\n",
      "('contact_title', b'varchar(30)', 'YES', '', None, '')\n",
      "('adress', b'varchar(60)', 'YES', '', None, '')\n",
      "('city', b'varchar(15)', 'YES', '', None, '')\n",
      "('region', b'varchar(15)', 'YES', '', None, '')\n",
      "('postal_code', b'varchar(10)', 'YES', 'MUL', None, '')\n",
      "('country', b'varchar(15)', 'YES', '', None, '')\n",
      "('phone', b'varchar(24)', 'YES', '', None, '')\n",
      "('fax', b'varchar(24)', 'YES', '', None, '')\n",
      "('home_page', b'longtext', 'YES', '', None, '')\n",
      "('territory_id', b'varchar(20)', 'NO', 'PRI', None, '')\n",
      "('territory_description', b'char(50)', 'NO', '', None, '')\n",
      "('region_id', b'int', 'NO', 'MUL', None, '')\n"
     ]
    }
   ],
   "source": [
    "mydb = mysql.connector.connect(user='root', password='AlumnaAdalab',\n",
    "                              host='127.0.0.1', database='northwind')\n",
    "\n",
    "lista_columnas = []\n",
    "mycursor = mydb.cursor()  \n",
    "\n",
    "\n",
    "for i in lista_tablas:\n",
    "\n",
    "    mycursor.execute(f\"SHOW COLUMNS FROM {i}\") \n",
    "\n",
    "    for x in mycursor:\n",
    "        print(x)"
   ]
  },
  {
   "cell_type": "markdown",
   "metadata": {},
   "source": [
    "4. Realizad las siguientes queries:\n"
   ]
  },
  {
   "cell_type": "markdown",
   "metadata": {},
   "source": [
    "- Extraed el primer pedido donde se ha gastado más. Devolved el id del pedido y la cantidad gastada."
   ]
  },
  {
   "cell_type": "code",
   "execution_count": 10,
   "metadata": {},
   "outputs": [],
   "source": [
    "import pandas as pd"
   ]
  },
  {
   "cell_type": "code",
   "execution_count": 32,
   "metadata": {},
   "outputs": [],
   "source": [
    "mydb = mysql.connector.connect(user='root', password='AlumnaAdalab',\n",
    "                              host='127.0.0.1', database='northwind')\n",
    "\n",
    "sql = \"SELECT order_id, (unit_price * quantity) FROM order_details ORDER BY (unit_price * quantity) DESC LIMIT 1\"\n",
    "                    \n",
    "df = pd.read_sql_query(sql,mydb)\n"
   ]
  },
  {
   "cell_type": "code",
   "execution_count": 33,
   "metadata": {},
   "outputs": [
    {
     "data": {
      "text/html": [
       "<div>\n",
       "<style scoped>\n",
       "    .dataframe tbody tr th:only-of-type {\n",
       "        vertical-align: middle;\n",
       "    }\n",
       "\n",
       "    .dataframe tbody tr th {\n",
       "        vertical-align: top;\n",
       "    }\n",
       "\n",
       "    .dataframe thead th {\n",
       "        text-align: right;\n",
       "    }\n",
       "</style>\n",
       "<table border=\"1\" class=\"dataframe\">\n",
       "  <thead>\n",
       "    <tr style=\"text-align: right;\">\n",
       "      <th></th>\n",
       "      <th>order_id</th>\n",
       "      <th>(unit_price * quantity)</th>\n",
       "    </tr>\n",
       "  </thead>\n",
       "  <tbody>\n",
       "    <tr>\n",
       "      <th>0</th>\n",
       "      <td>10865</td>\n",
       "      <td>15810.0</td>\n",
       "    </tr>\n",
       "  </tbody>\n",
       "</table>\n",
       "</div>"
      ],
      "text/plain": [
       "   order_id  (unit_price * quantity)\n",
       "0     10865                  15810.0"
      ]
     },
     "execution_count": 33,
     "metadata": {},
     "output_type": "execute_result"
    }
   ],
   "source": [
    "df.head()"
   ]
  },
  {
   "cell_type": "markdown",
   "metadata": {},
   "source": [
    "- Devuelve la misma query que en el anterior ejercicio, pero en este caso devuelve todos los resultados."
   ]
  },
  {
   "cell_type": "code",
   "execution_count": 34,
   "metadata": {},
   "outputs": [],
   "source": [
    "mydb = mysql.connector.connect(user='root', password='AlumnaAdalab',\n",
    "                              host='127.0.0.1', database='northwind')\n",
    "\n",
    "sql = \"SELECT order_id, (unit_price * quantity) FROM order_details ORDER BY (unit_price * quantity)\"\n",
    "                    \n",
    "df = pd.read_sql_query(sql,mydb)"
   ]
  },
  {
   "cell_type": "code",
   "execution_count": 37,
   "metadata": {},
   "outputs": [
    {
     "data": {
      "text/html": [
       "<div>\n",
       "<style scoped>\n",
       "    .dataframe tbody tr th:only-of-type {\n",
       "        vertical-align: middle;\n",
       "    }\n",
       "\n",
       "    .dataframe tbody tr th {\n",
       "        vertical-align: top;\n",
       "    }\n",
       "\n",
       "    .dataframe thead th {\n",
       "        text-align: right;\n",
       "    }\n",
       "</style>\n",
       "<table border=\"1\" class=\"dataframe\">\n",
       "  <thead>\n",
       "    <tr style=\"text-align: right;\">\n",
       "      <th></th>\n",
       "      <th>order_id</th>\n",
       "      <th>(unit_price * quantity)</th>\n",
       "    </tr>\n",
       "  </thead>\n",
       "  <tbody>\n",
       "    <tr>\n",
       "      <th>0</th>\n",
       "      <td>10462</td>\n",
       "      <td>4.8</td>\n",
       "    </tr>\n",
       "    <tr>\n",
       "      <th>1</th>\n",
       "      <td>10281</td>\n",
       "      <td>7.3</td>\n",
       "    </tr>\n",
       "    <tr>\n",
       "      <th>2</th>\n",
       "      <td>10420</td>\n",
       "      <td>9.6</td>\n",
       "    </tr>\n",
       "    <tr>\n",
       "      <th>3</th>\n",
       "      <td>10850</td>\n",
       "      <td>10.0</td>\n",
       "    </tr>\n",
       "    <tr>\n",
       "      <th>4</th>\n",
       "      <td>10782</td>\n",
       "      <td>12.5</td>\n",
       "    </tr>\n",
       "    <tr>\n",
       "      <th>...</th>\n",
       "      <td>...</td>\n",
       "      <td>...</td>\n",
       "    </tr>\n",
       "    <tr>\n",
       "      <th>2150</th>\n",
       "      <td>10353</td>\n",
       "      <td>10540.0</td>\n",
       "    </tr>\n",
       "    <tr>\n",
       "      <th>2151</th>\n",
       "      <td>10417</td>\n",
       "      <td>10540.0</td>\n",
       "    </tr>\n",
       "    <tr>\n",
       "      <th>2152</th>\n",
       "      <td>10889</td>\n",
       "      <td>10540.0</td>\n",
       "    </tr>\n",
       "    <tr>\n",
       "      <th>2153</th>\n",
       "      <td>10865</td>\n",
       "      <td>15810.0</td>\n",
       "    </tr>\n",
       "    <tr>\n",
       "      <th>2154</th>\n",
       "      <td>10981</td>\n",
       "      <td>15810.0</td>\n",
       "    </tr>\n",
       "  </tbody>\n",
       "</table>\n",
       "<p>2155 rows × 2 columns</p>\n",
       "</div>"
      ],
      "text/plain": [
       "      order_id  (unit_price * quantity)\n",
       "0        10462                      4.8\n",
       "1        10281                      7.3\n",
       "2        10420                      9.6\n",
       "3        10850                     10.0\n",
       "4        10782                     12.5\n",
       "...        ...                      ...\n",
       "2150     10353                  10540.0\n",
       "2151     10417                  10540.0\n",
       "2152     10889                  10540.0\n",
       "2153     10865                  15810.0\n",
       "2154     10981                  15810.0\n",
       "\n",
       "[2155 rows x 2 columns]"
      ]
     },
     "execution_count": 37,
     "metadata": {},
     "output_type": "execute_result"
    }
   ],
   "source": [
    "df"
   ]
  },
  {
   "cell_type": "markdown",
   "metadata": {},
   "source": [
    "- Extraed el números de pedidos que se hayan hecho por dia. Devolved los resultados en una dataframe."
   ]
  },
  {
   "cell_type": "code",
   "execution_count": 38,
   "metadata": {},
   "outputs": [],
   "source": [
    "mydb = mysql.connector.connect(user='root', password='AlumnaAdalab',\n",
    "                              host='127.0.0.1', database='northwind')\n",
    "\n",
    "sql = \"SELECT COUNT(order_id), order_date FROM orders GROUP BY order_date\"\n",
    "                    \n",
    "df = pd.read_sql_query(sql,mydb)"
   ]
  },
  {
   "cell_type": "code",
   "execution_count": 39,
   "metadata": {},
   "outputs": [
    {
     "data": {
      "text/html": [
       "<div>\n",
       "<style scoped>\n",
       "    .dataframe tbody tr th:only-of-type {\n",
       "        vertical-align: middle;\n",
       "    }\n",
       "\n",
       "    .dataframe tbody tr th {\n",
       "        vertical-align: top;\n",
       "    }\n",
       "\n",
       "    .dataframe thead th {\n",
       "        text-align: right;\n",
       "    }\n",
       "</style>\n",
       "<table border=\"1\" class=\"dataframe\">\n",
       "  <thead>\n",
       "    <tr style=\"text-align: right;\">\n",
       "      <th></th>\n",
       "      <th>COUNT(order_id)</th>\n",
       "      <th>order_date</th>\n",
       "    </tr>\n",
       "  </thead>\n",
       "  <tbody>\n",
       "    <tr>\n",
       "      <th>0</th>\n",
       "      <td>1</td>\n",
       "      <td>1996-07-04</td>\n",
       "    </tr>\n",
       "    <tr>\n",
       "      <th>1</th>\n",
       "      <td>1</td>\n",
       "      <td>1996-07-05</td>\n",
       "    </tr>\n",
       "    <tr>\n",
       "      <th>2</th>\n",
       "      <td>2</td>\n",
       "      <td>1996-07-08</td>\n",
       "    </tr>\n",
       "    <tr>\n",
       "      <th>3</th>\n",
       "      <td>1</td>\n",
       "      <td>1996-07-09</td>\n",
       "    </tr>\n",
       "    <tr>\n",
       "      <th>4</th>\n",
       "      <td>1</td>\n",
       "      <td>1996-07-10</td>\n",
       "    </tr>\n",
       "  </tbody>\n",
       "</table>\n",
       "</div>"
      ],
      "text/plain": [
       "   COUNT(order_id) order_date\n",
       "0                1 1996-07-04\n",
       "1                1 1996-07-05\n",
       "2                2 1996-07-08\n",
       "3                1 1996-07-09\n",
       "4                1 1996-07-10"
      ]
     },
     "execution_count": 39,
     "metadata": {},
     "output_type": "execute_result"
    }
   ],
   "source": [
    "df.head()"
   ]
  },
  {
   "cell_type": "markdown",
   "metadata": {},
   "source": [
    "Extraed los pedidos hechos por Nancy Daviolo. Tendréis que hacer una subquery."
   ]
  },
  {
   "cell_type": "code",
   "execution_count": null,
   "metadata": {},
   "outputs": [],
   "source": [
    "mydb = mysql.connector.connect(user='root', password='AlumnaAdalab',\n",
    "                              host='127.0.0.1', database='northwind')\n",
    "\n",
    "sql = "
   ]
  },
  {
   "cell_type": "markdown",
   "metadata": {},
   "source": [
    "5. Para finalizar el ejercicio, desconectad la conexión con el servidor"
   ]
  }
 ],
 "metadata": {
  "kernelspec": {
   "display_name": "Python 3.9.7 ('base')",
   "language": "python",
   "name": "python3"
  },
  "language_info": {
   "codemirror_mode": {
    "name": "ipython",
    "version": 3
   },
   "file_extension": ".py",
   "mimetype": "text/x-python",
   "name": "python",
   "nbconvert_exporter": "python",
   "pygments_lexer": "ipython3",
   "version": "3.9.7"
  },
  "orig_nbformat": 4,
  "vscode": {
   "interpreter": {
    "hash": "0620710c65b0f5ccc651a2aa8870ae0eb4c70492424a8d7866846658189426a3"
   }
  }
 },
 "nbformat": 4,
 "nbformat_minor": 2
}
