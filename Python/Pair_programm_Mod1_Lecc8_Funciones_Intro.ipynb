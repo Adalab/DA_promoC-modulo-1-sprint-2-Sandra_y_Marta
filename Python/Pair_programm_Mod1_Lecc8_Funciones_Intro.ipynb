{
 "cells": [
  {
   "cell_type": "markdown",
   "metadata": {},
   "source": [
    "1. Cread una función que reciba 2 números enteros en forma de string como entrada y de como resultado la suma (también en forma de string)\n",
    "Condiciones:\n",
    "Si los dos parámetros que recibe la función son strings vacíos la función nos debe devolver \"0\".\n",
    "Si el primer parámetro es un string vacío, la función nos devuelve el valor del segundo parámetro y viceversa:\n"
   ]
  },
  {
   "cell_type": "code",
   "execution_count": 16,
   "metadata": {},
   "outputs": [],
   "source": [
    "def sumar_string(num1, num2):\n",
    "    if num1 == \"\":\n",
    "        if num2 == \"\":\n",
    "            resultado = \"0\"\n",
    "        elif num2 != \"\":\n",
    "            resultado = num2\n",
    "    elif num2 == \"\":\n",
    "        resultado = num1\n",
    "    else:\n",
    "        resultado = str(int(num1) +int(num2))\n",
    "        \n",
    "    return f\"{num1}, {num2} --> {resultado}\""
   ]
  },
  {
   "cell_type": "code",
   "execution_count": 8,
   "metadata": {},
   "outputs": [
    {
     "data": {
      "text/plain": [
       "'4, 5 --> 9'"
      ]
     },
     "execution_count": 8,
     "metadata": {},
     "output_type": "execute_result"
    }
   ],
   "source": [
    "# Probad la función en las siguientes combinaciones de números:\n",
    "\n",
    "sumar_string(\"4\",\"5\")\n"
   ]
  },
  {
   "cell_type": "code",
   "execution_count": 10,
   "metadata": {},
   "outputs": [
    {
     "data": {
      "text/plain": [
       "'34, 5 --> 39'"
      ]
     },
     "execution_count": 10,
     "metadata": {},
     "output_type": "execute_result"
    }
   ],
   "source": [
    "sumar_string(\"34\",\"5\")"
   ]
  },
  {
   "cell_type": "code",
   "execution_count": 11,
   "metadata": {},
   "outputs": [
    {
     "data": {
      "text/plain": [
       "',  --> 0'"
      ]
     },
     "execution_count": 11,
     "metadata": {},
     "output_type": "execute_result"
    }
   ],
   "source": [
    "sumar_string(\"\",\"\")"
   ]
  },
  {
   "cell_type": "code",
   "execution_count": 12,
   "metadata": {},
   "outputs": [
    {
     "data": {
      "text/plain": [
       "'2,  --> 2'"
      ]
     },
     "execution_count": 12,
     "metadata": {},
     "output_type": "execute_result"
    }
   ],
   "source": [
    "sumar_string(\"2\",\"\")"
   ]
  },
  {
   "cell_type": "code",
   "execution_count": 9,
   "metadata": {},
   "outputs": [
    {
     "data": {
      "text/plain": [
       "'-5, 3 --> -2'"
      ]
     },
     "execution_count": 9,
     "metadata": {},
     "output_type": "execute_result"
    }
   ],
   "source": [
    "sumar_string(\"-5\",\"3\")"
   ]
  },
  {
   "cell_type": "markdown",
   "metadata": {},
   "source": [
    "2. El objetivo es comparar cada par de enteros de 2 listas, y devolver una nueva lista con el mayor de la comparación..."
   ]
  },
  {
   "cell_type": "code",
   "execution_count": 27,
   "metadata": {},
   "outputs": [],
   "source": [
    "#Probad la función con las siguientes listas: *Pista*en Python existe el método zip.\n",
    "\n",
    "arr1 = [13, 64, 15, 17, 88]\n",
    "arr2 = [23, 14, 53, 17, 80]"
   ]
  },
  {
   "cell_type": "code",
   "execution_count": 28,
   "metadata": {},
   "outputs": [],
   "source": [
    "def comparar_num(a,b):\n",
    "    resultado = []\n",
    "    dict_listas = dict(zip(a,b))\n",
    "    for k, v in dict_listas.items():\n",
    "        if k >= v:\n",
    "            resultado.append(k)\n",
    "        else:\n",
    "            resultado.append(v)\n",
    "    return resultado "
   ]
  },
  {
   "cell_type": "code",
   "execution_count": 29,
   "metadata": {},
   "outputs": [
    {
     "data": {
      "text/plain": [
       "[23, 64, 53, 17, 88]"
      ]
     },
     "execution_count": 29,
     "metadata": {},
     "output_type": "execute_result"
    }
   ],
   "source": [
    "comparar_num(arr1,arr2)"
   ]
  },
  {
   "cell_type": "markdown",
   "metadata": {},
   "source": [
    "3. El objetivo de este ejercicio es convertir un string en un nuevo string en el que cada carácter del nuevo string es \"(\" si ese carácter aparece sólo una vez en el string original, o \")\" si ese carácter aparece más de una vez en el string. Nuestro código no tiene que ser case sensitive, es decir, si hay una letra en mayúscula y en minúscula cuenta como dos apariciones."
   ]
  },
  {
   "cell_type": "code",
   "execution_count": 1,
   "metadata": {},
   "outputs": [],
   "source": [
    "def convertir_string(palabra):\n",
    "    palabra = palabra.lower()\n",
    "    for i in palabra:\n",
    "        if palabra.count(i) == 1:\n",
    "            palabra = palabra.replace(i,\"(\")\n",
    "        else:\n",
    "            palabra = palabra.replace(i,\")\")\n",
    "    return palabra"
   ]
  },
  {
   "cell_type": "markdown",
   "metadata": {},
   "source": [
    "Probad la función para los siguientes strings:"
   ]
  },
  {
   "cell_type": "code",
   "execution_count": 2,
   "metadata": {},
   "outputs": [
    {
     "data": {
      "text/plain": [
       "'((('"
      ]
     },
     "execution_count": 2,
     "metadata": {},
     "output_type": "execute_result"
    }
   ],
   "source": [
    "convertir_string('din')"
   ]
  },
  {
   "cell_type": "code",
   "execution_count": 3,
   "metadata": {},
   "outputs": [
    {
     "data": {
      "text/plain": [
       "'()()()'"
      ]
     },
     "execution_count": 3,
     "metadata": {},
     "output_type": "execute_result"
    }
   ],
   "source": [
    "convertir_string('recede')"
   ]
  },
  {
   "cell_type": "code",
   "execution_count": 4,
   "metadata": {},
   "outputs": [
    {
     "data": {
      "text/plain": [
       "')())())'"
      ]
     },
     "execution_count": 4,
     "metadata": {},
     "output_type": "execute_result"
    }
   ],
   "source": [
    "convertir_string('success')"
   ]
  },
  {
   "cell_type": "code",
   "execution_count": 5,
   "metadata": {},
   "outputs": [
    {
     "data": {
      "text/plain": [
       "'))(('"
      ]
     },
     "execution_count": 5,
     "metadata": {},
     "output_type": "execute_result"
    }
   ],
   "source": [
    "convertir_string(\"(( @\")"
   ]
  },
  {
   "cell_type": "code",
   "execution_count": 6,
   "metadata": {},
   "outputs": [
    {
     "data": {
      "text/plain": [
       "'((()(()()))))(()('"
      ]
     },
     "execution_count": 6,
     "metadata": {},
     "output_type": "execute_result"
    }
   ],
   "source": [
    "convertir_string(\"0cvl@GamFLAFkixkS\")"
   ]
  },
  {
   "cell_type": "markdown",
   "metadata": {},
   "source": [
    "### BONUS"
   ]
  },
  {
   "cell_type": "markdown",
   "metadata": {},
   "source": [
    "4. A Pete le gusta hacer pasteles. Tiene algunas recetas e ingredientes. Desgraciadamente, no se le dan bien las matemáticas. ¿Puedes ayudarle a averiguar cuántas tartas puede hacer teniendo en cuenta sus recetas?"
   ]
  },
  {
   "cell_type": "code",
   "execution_count": 7,
   "metadata": {},
   "outputs": [],
   "source": [
    "# BONUS 4. Pete y sus recetas e ingredientes\n",
    "def contar_pasteles(rec,ing):\n",
    "    # definimos una lista donde apendear los resultados de la división de las cantidades \n",
    "    resultado = []\n",
    "    # for del diccionario receta\n",
    "    for k,v in rec.items():\n",
    "        # si un ingrediente de receta, está en nuestra lista de ingredientes, añadimos a la lista resultado la división entera de ingredientes / receta\n",
    "        if k in ing.keys():\n",
    "            resultado.append(ing[k]//rec[k])\n",
    "        # si un ingrediente no está en los que tenemos, añadimos un 0 a lista\n",
    "        else:\n",
    "            resultado.append(0)\n",
    "    # La función nos devuelve el valor mínimo de la lista. Si algún ingrediente de nuestra receta no está en nuestra lista de ingredientes, no podremos preparar la receta\n",
    "    return print(\"RESULTADO:\", min(resultado))"
   ]
  },
  {
   "cell_type": "code",
   "execution_count": 8,
   "metadata": {},
   "outputs": [
    {
     "name": "stdout",
     "output_type": "stream",
     "text": [
      "RESULTADO: 2\n"
     ]
    }
   ],
   "source": [
    "# Comprobamos que funcione\n",
    "receta1 = {\"flour\":500, \"sugar\":200, \"eggs\":1}\n",
    "ingredientes1 = {\"flour\": 1200, \"sugar\":1200, \"eggs\":5, \"milk\":200}\n",
    "\n",
    "contar_pasteles(receta1,ingredientes1)"
   ]
  },
  {
   "cell_type": "code",
   "execution_count": 9,
   "metadata": {},
   "outputs": [
    {
     "name": "stdout",
     "output_type": "stream",
     "text": [
      "RESULTADO: 0\n"
     ]
    }
   ],
   "source": [
    "receta2 = {\"apples\":3, \"flour\":300, \"sugar\":150, \"milk\":100, \"oil\":100}\n",
    "ingredientes2 = {\"sugar\": 500, \"flour\":2000, \"milk\":2000}\n",
    "\n",
    "contar_pasteles(receta2,ingredientes2)"
   ]
  },
  {
   "cell_type": "markdown",
   "metadata": {},
   "source": [
    "5. Escribid una función que va a ser una calculadora. La lista recibirá dos parámetros, una lista de números y un string con la operación que queremos hacer (puede ser \"+\", \"*\")"
   ]
  },
  {
   "cell_type": "code",
   "execution_count": 10,
   "metadata": {},
   "outputs": [],
   "source": [
    "# BONUS 5. Escribir una función calculadora: recibe dos parámetros, una lista de números y un string con una operación \"*\" o \"+\"\n",
    "def calcular_lista(lst,oper):\n",
    "    # definimos la variable multiplicación con valor 1 para poder ir multiplicandole los valores de la lista en caso de que el operador sea \"*\"\n",
    "    multiplicacion = 1\n",
    "    if oper == \"*\":\n",
    "        for i in lst:\n",
    "            multiplicacion *= i \n",
    "        return f\"RESULTADO {multiplicacion}\"\n",
    "    # en caso de que el operador sea \"+\", sumamos los valores de la lista con la función sum\n",
    "    elif oper == \"+\":\n",
    "        suma = sum(lst)\n",
    "        return f\"RESULTADO {suma}\"\n",
    "    # en caso de que el operador no sea ni \"*\" ni \"+\", nos devuelve la siguiente frase\n",
    "    else:\n",
    "        return \"Lo siento, necesito que me pases una operación válida\""
   ]
  },
  {
   "cell_type": "code",
   "execution_count": 11,
   "metadata": {},
   "outputs": [
    {
     "data": {
      "text/plain": [
       "'RESULTADO 12936'"
      ]
     },
     "execution_count": 11,
     "metadata": {},
     "output_type": "execute_result"
    }
   ],
   "source": [
    "# Comprobando con \"*\"\n",
    "lista1 = [11, 6, 98, 1, 2]\n",
    "calcular_lista(lista1,\"*\")"
   ]
  },
  {
   "cell_type": "code",
   "execution_count": 12,
   "metadata": {},
   "outputs": [
    {
     "data": {
      "text/plain": [
       "'RESULTADO 214'"
      ]
     },
     "execution_count": 12,
     "metadata": {},
     "output_type": "execute_result"
    }
   ],
   "source": [
    "# Comprobando con \"+\"\n",
    "lista2 = [23,34,56,11,90]\n",
    "calcular_lista(lista2,\"+\")"
   ]
  },
  {
   "cell_type": "code",
   "execution_count": 13,
   "metadata": {},
   "outputs": [
    {
     "data": {
      "text/plain": [
       "'Lo siento, necesito que me pases una operación válida'"
      ]
     },
     "execution_count": 13,
     "metadata": {},
     "output_type": "execute_result"
    }
   ],
   "source": [
    "# Comprobando con otro operador\n",
    "lista3 = [23, 4, 109, 94, 77]\n",
    "calcular_lista(lista3,\"-\")"
   ]
  }
 ],
 "metadata": {
  "kernelspec": {
   "display_name": "Python 3.9.7 ('base')",
   "language": "python",
   "name": "python3"
  },
  "language_info": {
   "codemirror_mode": {
    "name": "ipython",
    "version": 3
   },
   "file_extension": ".py",
   "mimetype": "text/x-python",
   "name": "python",
   "nbconvert_exporter": "python",
   "pygments_lexer": "ipython3",
   "version": "3.9.7"
  },
  "orig_nbformat": 4,
  "vscode": {
   "interpreter": {
    "hash": "f25093244bacc7e62393c275f4a06a2027bcbdb9a67d7fe53680dbd2484adc03"
   }
  }
 },
 "nbformat": 4,
 "nbformat_minor": 2
}
