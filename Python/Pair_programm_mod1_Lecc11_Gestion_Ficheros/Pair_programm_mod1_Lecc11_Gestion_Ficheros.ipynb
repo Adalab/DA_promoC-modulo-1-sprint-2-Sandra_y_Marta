{
 "cells": [
  {
   "cell_type": "code",
   "execution_count": 5,
   "metadata": {},
   "outputs": [],
   "source": [
    "import os"
   ]
  },
  {
   "cell_type": "code",
   "execution_count": 22,
   "metadata": {},
   "outputs": [],
   "source": [
    "import xml.etree.ElementTree as ET"
   ]
  },
  {
   "cell_type": "markdown",
   "metadata": {},
   "source": [
    "**PRIMERA FUNCIÓN**\n",
    "\n",
    "Debe incluir el código que:\n",
    "1. Nos muestre en que carpeta estamos trabajando\n",
    "2. Cree una carpeta que se llame \"aprendiendo-ficheros\". Incluimos una función que evite que nos de un error. Nos imprime el mensaje: \"Esta carpeta ya existe\"\n",
    "3. Cree una carpeta que se llame \"datos\" dentro de la carpeta \"aprendiendo-ficheros\".\n",
    "4. Cambiad el directorio de trabajo a la carpeta \"datos\".\n",
    "5. Cambiad el nombre de la carpeta creada en el punto 2 a \"primera-toma-contacto\"\n",
    "La función debe incluir 3 parámetros, que serán los nombres de las carpetas"
   ]
  },
  {
   "cell_type": "code",
   "execution_count": 20,
   "metadata": {},
   "outputs": [],
   "source": [
    "def trabajar_carpetas(carp1, carp2, carp3):\n",
    "    ruta_carp1 = os.getcwd()\n",
    "    print(ruta_carp1)\n",
    "\n",
    "    print(\"------------------------------\")\n",
    "\n",
    "    try:\n",
    "        os.mkdir(carp1)\n",
    "        print(f\"Hemos creado la carpeta {carp1}\")\n",
    "    except:\n",
    "        print(f\"Esta carpeta ya existe\")\n",
    "    \n",
    "    print(\"------------------------------\")\n",
    "    \n",
    "    os.chdir(carp1)\n",
    "   \n",
    "    try:\n",
    "        os.mkdir(carp2)\n",
    "        print(f\"Hemos creado la carpeta {carp2}\")\n",
    "    except:\n",
    "        print(f\"Esta carpeta ya existe\")\n",
    "    \n",
    "    print(\"------------------------------\")\n",
    "    \n",
    "    os.chdir(carp2)\n",
    "    \n",
    "    ruta_datos = os.getcwd()\n",
    "    print(ruta_datos)\n",
    "\n",
    "    print(\"------------------------------\")\n",
    "    os.chdir(\"../../\")\n",
    "    os.rename(carp1, carp3)\n",
    "\n",
    "\n",
    "    return "
   ]
  },
  {
   "cell_type": "code",
   "execution_count": 21,
   "metadata": {},
   "outputs": [
    {
     "name": "stdout",
     "output_type": "stream",
     "text": [
      "/mnt/c/Users/sandr/Documents/adalab/pair-programming/DA_promoC-modulo-1-sprint-2-Sandra_y_Marta/Python/Pair_programm_mod1_Lecc11_Gestion_Ficheros\n",
      "------------------------------\n",
      "Hemos creado la carpeta aprendiendo-ficheros\n",
      "------------------------------\n",
      "Hemos creado la carpeta datos\n",
      "------------------------------\n",
      "/mnt/c/Users/sandr/Documents/adalab/pair-programming/DA_promoC-modulo-1-sprint-2-Sandra_y_Marta/Python/Pair_programm_mod1_Lecc11_Gestion_Ficheros/aprendiendo-ficheros/datos\n",
      "------------------------------\n"
     ]
    }
   ],
   "source": [
    "trabajar_carpetas(\"aprendiendo-ficheros\", \"datos\",\"primera-toma-contacto\")"
   ]
  },
  {
   "cell_type": "markdown",
   "metadata": {},
   "source": [
    "**SEGUNDA FUNCIÓN**\n",
    "\n",
    "Primero, movemos el archivo \"saludo.txt\" a la carpeta \"datos\"\n",
    "1. La función debe leer el fichero que se llama \"saludo.txt\" y mostrar su contenido completo.\n",
    "2. Muestra la línea 4 del fichero"
   ]
  },
  {
   "cell_type": "code",
   "execution_count": 2,
   "metadata": {},
   "outputs": [
    {
     "data": {
      "text/plain": [
       "'/mnt/c/Users/sandr/Documents/adalab/pair-programming/DA_promoC-modulo-1-sprint-2-Sandra_y_Marta/Python/Pair_programm_mod1_Lecc11_Gestion_Ficheros'"
      ]
     },
     "execution_count": 2,
     "metadata": {},
     "output_type": "execute_result"
    }
   ],
   "source": [
    "# Comprobando el directorio en el que estamos trabajando\n",
    "os.getcwd()"
   ]
  },
  {
   "cell_type": "code",
   "execution_count": 12,
   "metadata": {},
   "outputs": [],
   "source": [
    "def leer_fichero(fich1):\n",
    "    \n",
    "    ruta = input(f\"Donde está el fichero {fich1}\")\n",
    "    with open(ruta) as f:\n",
    "        print(f.read())\n",
    "\n",
    "    print(\"------------------------------\")\n",
    "\n",
    "    with open(\"primera-toma-contacto/datos/saludo.txt\") as f:\n",
    "        f.readline()\n",
    "        f.readline()\n",
    "        f.readline()\n",
    "        f.readline()\n",
    "        print(f.readline())\n",
    "\n",
    "    return\n",
    "    "
   ]
  },
  {
   "cell_type": "code",
   "execution_count": 13,
   "metadata": {},
   "outputs": [
    {
     "name": "stdout",
     "output_type": "stream",
     "text": [
      "Hola Adalabers!!!\n",
      "\n",
      "Estamos en la sesión de pair-programming para familiarizarnos con la gestión de carpetas y ficheros desde Python 🙂🌊\n",
      "\n",
      "Esto esta siendo suuuper divertidooooo\n",
      "------------------------------\n",
      "Esto esta siendo suuuper divertidooooo\n"
     ]
    }
   ],
   "source": [
    "# Ruta relativa para el input: primera-toma-contacto/datos/saludo.txt\n",
    "leer_fichero(\"saludo.txt\")"
   ]
  },
  {
   "cell_type": "code",
   "execution_count": 11,
   "metadata": {},
   "outputs": [],
   "source": [
    "with open(\"primera-toma-contacto/datos/saludo.txt\") as f:\n",
    "    if f.readline():\n",
    "        pass\n",
    "    elif f.readline():\n",
    "        pass\n",
    "    elif f.readline():\n",
    "        pass\n",
    "    elif f.readline():\n",
    "        pass\n",
    "    else:\n",
    "        print(f.readline())"
   ]
  },
  {
   "cell_type": "markdown",
   "metadata": {},
   "source": [
    "**TERCERA FUNCIÓN**\n",
    "1. La función debe recibir 4 parámetros:\n",
    "- Nombre del fichero, incluyendo la extensión.\n",
    "- Como queremos leer el fichero.\n",
    "- El enconding del fichero.\n",
    "- El contenido que queremos escribir en el fichero\n",
    "2. Condiciones de la función:\n",
    "- Si el fichero no existe, debe crearlo, insertar el contenido y mostrar su contenido.\n",
    "- Si el fichero existe, pregunta al usuario si desea sobreescribirlo. En caso de *Si*, sobreescribe el fichero, insertad contenido y leerlo. En caso de *No*, no hace nada."
   ]
  },
  {
   "cell_type": "code",
   "execution_count": 17,
   "metadata": {},
   "outputs": [],
   "source": [
    "def escribir_archivo(nombre, modo,encod, texto):\n",
    "    lista_contenido = os.listdir()\n",
    "    if nombre in lista_contenido:\n",
    "        sobresc_sino = input(\"Desea sobreescribir el fichero?\")\n",
    "        if sobresc_sino == \"Si\":\n",
    "            with open(nombre, \"w\") as f:\n",
    "                f.write(texto)\n",
    "        else:\n",
    "            with open(nombre,\"a\") as f:\n",
    "                f.write(texto)\n",
    "    else:\n",
    "        with open(nombre, \"w\", encoding=encod) as f:\n",
    "            f.write(texto)\n",
    "    return print(f)\n"
   ]
  },
  {
   "cell_type": "code",
   "execution_count": 15,
   "metadata": {},
   "outputs": [],
   "source": [
    "text_archivo = \"\"\"Thu Oct 31 08:11:39 2002\n",
    "        Return-Path: <bensul2004nng@spinfinder.com>\n",
    "        X-Sieve: cmu-sieve 2.0\n",
    "        Return-Path: <bensul2004nng@spinfinder.com>\n",
    "        Message-Id: <200210311310.g9VDANt24674@bloodwork.mr.itd.UM>\n",
    "        From: \"Mr. Ben Suleman\" <bensul2004nng@spinfinder.com>\n",
    "        Date: Thu, 31 Oct 2002 05:10:00\n",
    "        To: R@M\n",
    "        Subject: URGENT ASSISTANCE /RELATIONSHIP (P)\n",
    "        MIME-Version: 1.0\n",
    "        Content-Type: text/plain;charset=\"iso-8859-1\"\n",
    "        Content-Transfer-Encoding: 7bit\n",
    "        Status: O\n",
    "\n",
    "        Dear Friend,\n",
    "\n",
    "        I am Mr. Ben Suleman a custom officer and work as Assistant controller of the Customs and Excise department Of the Federal Ministry of Internal Affairs stationed at the Murtala Mohammed International Airport, Ikeja, Lagos-Nigeria.\n",
    "\n",
    "        After the sudden death of the former Head of state of Nigeria General Sanni Abacha on June 8th 1998 his aides and immediate members of his family were arrested while trying to escape from Nigeria in a Chartered jet to Saudi Arabia with 6 trunk boxes Marked \"Diplomatic Baggage\". Acting on a tip-off as they attempted to board the Air Craft,my officials carried out a thorough search on the air craft and discovered that the 6 trunk boxes contained foreign currencies amounting to US$197,570,000.00(One Hundred and  Ninety-Seven Million Five Hundred Seventy Thousand United States Dollars).\n",
    "\n",
    "        I declared only (5) five boxes to the government and withheld one (1) in my custody containing the sum of (US$30,000,000.00) Thirty Million United States Dollars Only, which has been disguised to prevent their being discovered during transportation process.Due to several media reports on the late head of state about all the money him and his co-government officials stole from our government treasury amounting\n",
    "        to US$55 Billion Dollars (ref:ngrguardiannews.com) of July 2nd 1999. Even the London times of July 1998 reported that General Abacha has over US$3.Billion dollars in one account overseas. We decided to conceal this one (1)box till the situation is calm and quite on the issue. The box was thus deposited with a security company here in Nigeria and tagged as \"Precious Stones and Jewellry\" in other that its\n",
    "        content will not be discovered. Now that all is calm, we (myself and two of my colleagues in the operations team) are now ready to move this box out of the country through a diplomatic arrangement which is the safest means. \n",
    "\n",
    "        However as government officials the Civil Service Code of Conduct does not allow us by law to operate any foreign account or own foreign investment and the amount of money that can be found in our account\n",
    "        cannot be more than our salary on the average, thus our handicapp and our need for your assistance to help collect and keep safely in your account this money.\n",
    "\n",
    "        Therefore we want you to assist us in moving this money out of Nigeria. We shall definitely compensate you handsomely for the assistance. We can do this by instructing the Security Company here in Nigeria to\n",
    "        move the consignment to their affiliate branch office outside Nigeria through diplomatic means and the consignment will be termed as Precious Stones and Jewelleries\" which you bought during your visit to Nigeria and is being transfered to your country from here for safe keeping. Then we can arrange to meet at the destination country to take the delivery of the consignment. You will thereafter open an account there and lodge the Money there and gradually instruct remittance to your Country. \n",
    "\n",
    "        This business is 100% risk free for you so please treat this matter with utmost confidentiality .If you indicate your interest to assist us please just e-mail me for more Explanation on how we plan to execute the transaction.\n",
    "\n",
    "        Expecting your response urgently.\n",
    "\n",
    "        Best regards,\n",
    "\n",
    "        Mr. Ben Suleman\n",
    "\n",
    "        Wed Oct 30 21:41:56 2002\n",
    "        Return-Path: <james_ngola2002@maktoob.com>\n",
    "        X-Sieve: cmu-sieve 2.0\n",
    "        Return-Path: <james_ngola2002@maktoob.com>\n",
    "        Message-Id: <200210310241.g9V2fNm6028281@cs.CU>\n",
    "        From: \"MR. JAMES NGOLA.\" <james_ngola2002@maktoob.com>\n",
    "        Reply-To: james_ngola2002@maktoob.com\n",
    "        To: webmaster@aclweb.org\n",
    "        Date: Thu, 31 Oct 2002 02:38:20 +0000\n",
    "        Subject: URGENT BUSINESS ASSISTANCE AND PARTNERSHIP\n",
    "        X-Mailer: Microsoft Outlook Express 5.00.2919.6900 DM\n",
    "        MIME-Version: 1.0\n",
    "        Content-Type: text/plain; charset=\"us-ascii\"\n",
    "        Content-Transfer-Encoding: 8bit\n",
    "        X-MIME-Autoconverted: from quoted-printable to 8bit by sideshowmel.si.UM id g9V2foW24311\n",
    "        Status: O\n",
    "\n",
    "        FROM:MR. JAMES NGOLA.\n",
    "        CONFIDENTIAL TEL: 233-27-587908.\n",
    "        E-MAIL: (james_ngola2002@maktoob.com).\n",
    "\n",
    "        URGENT BUSINESS ASSISTANCE AND PARTNERSHIP.\n",
    "\n",
    "\n",
    "        DEAR FRIEND,\n",
    "\n",
    "        I AM ( DR.) JAMES NGOLA, THE PERSONAL ASSISTANCE TO THE LATE CONGOLESE (PRESIDENT LAURENT KABILA) WHO WAS ASSASSINATED BY HIS BODY GUARD ON 16TH JAN. 2001.\n",
    "\n",
    "\n",
    "        THE INCIDENT OCCURRED IN OUR PRESENCE WHILE WE WERE HOLDING MEETING WITH HIS EXCELLENCY OVER THE FINANCIAL RETURNS FROM THE DIAMOND SALES IN THE AREAS CONTROLLED BY (D.R.C.) DEMOCRATIC REPUBLIC OF CONGO FORCES AND THEIR FOREIGN ALLIES ANGOLA AND ZIMBABWE, HAVING RECEIVED THE PREVIOUS DAY (USD$100M) ONE HUNDRED MILLION UNITED STATES DOLLARS, CASH IN THREE DIPLOMATIC BOXES ROUTED THROUGH ZIMBABWE.\n",
    "\n",
    "        MY PURPOSE OF WRITING YOU THIS LETTER IS TO SOLICIT FOR YOUR ASSISTANCE AS TO BE A COVER TO THE FUND AND ALSO COLLABORATION IN MOVING THE SAID FUND INTO YOUR BANK ACCOUNT THE SUM OF (USD$25M) TWENTY FIVE MILLION UNITED STATES DOLLARS ONLY, WHICH I DEPOSITED WITH A SECURITY COMPANY IN GHANA, IN A DIPLOMATIC BOX AS GOLDS WORTH (USD$25M) TWENTY FIVE MILLION UNITED STATES DOLLARS ONLY FOR SAFE KEEPING IN A SECURITY VAULT FOR ANY FURTHER INVESTMENT PERHAPS IN YOUR COUNTRY. \n",
    "\n",
    "        YOU WERE INTRODUCED TO ME BY A RELIABLE FRIEND OF MINE WHO IS A TRAVELLER,AND ALSO A MEMBER OF CHAMBER OF COMMERCE AS A RELIABLE AND TRUSTWORTHY PERSON WHOM I CAN RELY ON AS FOREIGN PARTNER, EVEN THOUGH THE NATURE OF THE TRANSACTION WAS NOT REVEALED TO HIM FOR SECURITY REASONS.\n",
    "\n",
    "\n",
    "        THE (USD$25M) WAS PART OF A PROCEEDS FROM DIAMOND TRADE MEANT FOR THE LATE PRESIDENT LAURENT KABILA WHICH WAS DELIVERED THROUGH ZIMBABWE IN DIPLOMATIC BOXES. THE BOXES WERE KEPT UNDER MY CUSTODY BEFORE THE SAD EVENT THAT TOOK THE LIFE OF (MR. PRESIDENT).THE CONFUSION THAT ENSUED AFTER THE ASSASSINATION AND THE SPORADIC SHOOTING AMONG THE FACTIONS, I HAVE TO RUN AWAY FROM THE COUNTRY FOR MY DEAR LIFE AS I AM NOT A SOLDIER BUT A CIVIL SERVANT I CROSSED RIVER CONGO TO OTHER SIDE OF CONGO LIBREVILLE FROM THERE I MOVED TO THE THIRD COUNTRY GHANA WHERE I AM PRESENTLY TAKING REFUGE. \n",
    "\n",
    "        AS A MATTER OF FACT, WHAT I URGENTLY NEEDED FROM YOU IS YOUR ASSISTANCE IN MOVING THIS MONEY INTO YOUR ACCOUNT IN YOUR COUNTRY FOR INVESTMENT WITHOUT RAISING EYEBROW. FOR YOUR ASSISTANCE I WILL GIVE YOU 20% OF THE TOTAL SUM AS YOUR OWN SHARE WHEN THE MONEY GETS TO YOUR ACCOUNT, WHILE 75% WILL BE FOR ME, OF WHICH WITH YOUR KIND ADVICE I HOPE TO INVEST IN PROFITABLE VENTURE IN YOUR COUNTRY IN OTHER TO SETTLE DOWN FOR MEANINGFUL LIFE, AS I AM TIRED OF LIVING IN A WAR ENVIRONMENT. \n",
    "\n",
    "        THE REMAINING 5% WILL BE USED TO OFFSET ANY COST INCURRED IN THE CAUSE OF MOVING THE MONEY TO YOUR ACCOUNT. IF THE PROPOSAL IS ACCEPTABLE TO YOU PLEASE CONTACT ME IMMEDIATELY THROUGH THE ABOVE TELEPHONE AND E-MAIL, TO ENABLE ME ARRANGE FACE TO FACE MEETING WITH YOU IN GHANA FOR THE CLEARANCE OF THE FUNDS BEFORE TRANSFRING IT TO YOUR BANK ACCOUNT AS SEEING IS BELIEVING. \n",
    "\n",
    "        FINALLY, IT IS IMPORTANT ALSO THAT I LET YOU UNDERSTAND THAT THERE IS NO RISK INVOLVED WHATSOEVER AS THE MONEY HAD NO RECORD IN KINSHASA FOR IT WAS MEANT FOR THE PERSONAL USE OF (MR. PRESIDEND ) BEFORE THE NEFARIOUS INCIDENT OCCURRED, AND ALSO I HAVE ALL THE NECESSARY DOCUMENTS AS REGARDS TO THE FUNDS INCLUDING THE (CERTIFICATE OF DEPOSIT), AS I AM THE DEPOSITOR OF THE CONSIGNMENT.\n",
    "\n",
    "\n",
    "        LOOKING FORWARD TO YOUR URGENT RESPONSE.\n",
    "\n",
    "        YOUR SINCERELY,\n",
    "\n",
    "        MR. JAMES NGOLA. \"\"\""
   ]
  },
  {
   "cell_type": "code",
   "execution_count": 20,
   "metadata": {},
   "outputs": [
    {
     "name": "stdout",
     "output_type": "stream",
     "text": [
      "<_io.TextIOWrapper name='carta.txt' mode='w' encoding='UTF-8'>\n"
     ]
    }
   ],
   "source": [
    "escribir_archivo(\"carta.txt\", \"rt\", \"UTF-8\", text_archivo)"
   ]
  },
  {
   "cell_type": "code",
   "execution_count": 21,
   "metadata": {},
   "outputs": [
    {
     "name": "stdout",
     "output_type": "stream",
     "text": [
      "Thu Oct 31 08:11:39 2002\n",
      "\n"
     ]
    }
   ],
   "source": [
    "# Comprobamos si ha funcionado\n",
    "with open(\"carta.txt\", \"r\") as f:\n",
    "    print(f.readline())\n",
    "f.close()"
   ]
  },
  {
   "cell_type": "markdown",
   "metadata": {},
   "source": [
    "**CUARTA FUNCIÓN**\n",
    "Creamos una función que reciba el nombre del archivo xml y que devuelva lo siguiente:\n",
    "1. Qué tag y atributos tiene el archivo xml.\n",
    "2. La descripción de cada una de las películas que tenemos en este archivo.\n",
    "3. Los años en que fueron estrenadas las películas"
   ]
  },
  {
   "cell_type": "code",
   "execution_count": 58,
   "metadata": {},
   "outputs": [],
   "source": [
    "def trabajar_xml(nombre):\n",
    "    tree = ET.parse(nombre)\n",
    "    root = tree.getroot()\n",
    "    raiz = root.tag\n",
    "    print(root.tag)\n",
    "    print(root.attrib)\n",
    "\n",
    "    print(\"---------------------------------------------------------\")\n",
    "\n",
    "    for child in root:\n",
    "        print(f\"{child.tag}: Es un hijo de nuestra raiz {raiz}\")\n",
    "    for subchild in child:\n",
    "        print(f\"    {subchild.tag}: Es un nieto de nuestra raiz {raiz}\")\n",
    "        for subsubchild in subchild:\n",
    "            print(f\"        {subsubchild.tag}: Es un bisnieto de nuestra raiz {raiz}\")\n",
    "\n",
    "    print(\"---------------------------------------------------------\")\n",
    "\n",
    "    for child in root:\n",
    "        for subchild in child:\n",
    "            for subsubchild in subchild:\n",
    "                for subsubsubchild in subsubchild:\n",
    "                    if subsubsubchild.tag == \"description\":\n",
    "                        titulo = subsubchild.attrib[\"title\"]\n",
    "                        print(f\"El argumento de {titulo} es {subsubsubchild.text}\")\n",
    "    \n",
    "    print(\"---------------------------------------------------------\")\n",
    "\n",
    "    for child in root:\n",
    "        for subchild in child:\n",
    "            for subsubchild in subchild:\n",
    "                for subsubsubchild in subsubchild:\n",
    "                    if subsubsubchild.tag == \"year\":\n",
    "                        titulo = subsubchild.attrib[\"title\"]\n",
    "                        print(f\"{titulo} se estrenó en {subsubsubchild.text}\")\n",
    "\n",
    "    return"
   ]
  },
  {
   "cell_type": "code",
   "execution_count": 59,
   "metadata": {},
   "outputs": [
    {
     "name": "stdout",
     "output_type": "stream",
     "text": [
      "collection\n",
      "{}\n",
      "---------------------------------------------------------\n",
      "genre: Es un hijo de nuestra raiz collection\n",
      "genre: Es un hijo de nuestra raiz collection\n",
      "    decade: Es un nieto de nuestra raiz collection\n",
      "        movie: Es un bisnieto de nuestra raiz collection\n",
      "    decade: Es un nieto de nuestra raiz collection\n",
      "        movie: Es un bisnieto de nuestra raiz collection\n",
      "        movie: Es un bisnieto de nuestra raiz collection\n",
      "---------------------------------------------------------\n",
      "El argumento de Indiana Jones: The raiders of the lost Ark es \n",
      "                'Archaeologist and adventurer Indiana Jones \n",
      "                is hired by the U.S. government to find the Ark of  the Covenant before the Nazis.'\n",
      "                \n",
      "El argumento de THE KARATE KID es None provided.\n",
      "El argumento de Back 2 the Future es Marty McFly\n",
      "El argumento de X-Men es Two mutants come to a private academy for their kind whose resident superhero team must oppose a terrorist organization with similar powers.\n",
      "El argumento de Batman Returns es NA.\n",
      "El argumento de Reservoir Dogs es WhAtEvER I Want!!!?!\n",
      "El argumento de ALIEN es \"\"\"\"\"\"\"\"\"\n",
      "El argumento de Ferris Bueller's Day Off es Funny movie on funny guy \n",
      "El argumento de American Psycho es psychopathic Bateman\n",
      "---------------------------------------------------------\n",
      "Indiana Jones: The raiders of the lost Ark se estrenó en 1981\n",
      "THE KARATE KID se estrenó en 1984\n",
      "Back 2 the Future se estrenó en 1985\n",
      "X-Men se estrenó en 2000\n",
      "Batman Returns se estrenó en 1992\n",
      "Reservoir Dogs se estrenó en 1992\n",
      "ALIEN se estrenó en 1979\n",
      "Ferris Bueller's Day Off se estrenó en 1986\n",
      "American Psycho se estrenó en 2000\n"
     ]
    }
   ],
   "source": [
    "trabajar_xml(\"peliculas.xml\")"
   ]
  }
 ],
 "metadata": {
  "kernelspec": {
   "display_name": "Python 3.9.7 ('base')",
   "language": "python",
   "name": "python3"
  },
  "language_info": {
   "codemirror_mode": {
    "name": "ipython",
    "version": 3
   },
   "file_extension": ".py",
   "mimetype": "text/x-python",
   "name": "python",
   "nbconvert_exporter": "python",
   "pygments_lexer": "ipython3",
   "version": "3.9.7"
  },
  "orig_nbformat": 4,
  "vscode": {
   "interpreter": {
    "hash": "f25093244bacc7e62393c275f4a06a2027bcbdb9a67d7fe53680dbd2484adc03"
   }
  }
 },
 "nbformat": 4,
 "nbformat_minor": 2
}
