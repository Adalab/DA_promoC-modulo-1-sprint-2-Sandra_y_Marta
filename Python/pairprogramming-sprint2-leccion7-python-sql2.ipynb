{
 "cells": [
  {
   "cell_type": "markdown",
   "metadata": {},
   "source": [
    "Creamos la Base de datos \"mi_primera_BBDD_Python\""
   ]
  },
  {
   "cell_type": "code",
   "execution_count": 1,
   "metadata": {},
   "outputs": [
    {
     "name": "stdout",
     "output_type": "stream",
     "text": [
      "CMySQLCursor: CREATE DATABASE mi_primera_BBDD_Python\n"
     ]
    }
   ],
   "source": [
    "import mysql.connector\n",
    "\n",
    "cnx = mysql.connector.connect(user='root', password='AlumnaAdalab',\n",
    "                              host='127.0.0.1')\n",
    "\n",
    "\n",
    "mycursor = cnx.cursor()\n",
    "try:\n",
    "    mycursor.execute(\"CREATE DATABASE mi_primera_BBDD_Python\")\n",
    "    print(mycursor)\n",
    "except mysql.connector.Error as err:\n",
    "    print(err)\n",
    "    print(\"Error Code:\", err.errno)\n",
    "    print(\"SQLSTATE\", err.sqlstate)\n",
    "    print(\"Message\", err.msg)"
   ]
  },
  {
   "cell_type": "markdown",
   "metadata": {},
   "source": [
    "Definimos una función para crear tablas. Pedirá 3 parámetros: la contraseña, el nombre de la\n",
    "base de datos donde vamos a crear la tabla y la query."
   ]
  },
  {
   "cell_type": "code",
   "execution_count": 5,
   "metadata": {},
   "outputs": [],
   "source": [
    "def crear_tablas(contr,tab,qu):\n",
    "\n",
    "    import mysql.connector\n",
    "\n",
    "    cnx = mysql.connector.connect(user='root', password= contr,\n",
    "                                host='127.0.0.1', database= tab)\n",
    "\n",
    "\n",
    "    mycursor = cnx.cursor()\n",
    "    try:\n",
    "        mycursor.execute(qu)\n",
    "        print(mycursor)\n",
    "    except mysql.connector.Error as err:\n",
    "        print(err)\n",
    "        print(\"Error Code:\", err.errno)\n",
    "        print(\"SQLSTATE\", err.sqlstate)\n",
    "        print(\"Message\", err.msg)\n",
    "    \n",
    "    cnx.close()"
   ]
  },
  {
   "cell_type": "code",
   "execution_count": 3,
   "metadata": {},
   "outputs": [],
   "source": [
    "query_1 = \"\"\"\n",
    "            CREATE TABLE Zapatillas (idZapatillas INT PRIMARY KEY NOT NULL AUTO_INCREMENT, Modelo VARCHAR(45) NOT NULL, Color VARCHAR(45) NOT NULL, Talla INT NOT NULL);\n",
    "            CREATE TABLE Clientes (idCliente INT PRIMARY KEY NOT NULL AUTO_INCREMENT, Nombre VARCHAR(45) NOT NULL, Numero_Telefono INT(9) NOT NULL, email VARCHAR(45) NOT NULL,\n",
    "                                    Direccion VARCHAR(45) NOT NULL, Ciudad VARCHAR(45) NOT NULL, Provincia VARCHAR(45) NOT NULL, Pais VARCHAR(45) NOT NULL, Codigo_poastal INT(9) NOT NULL);\n",
    "            CREATE TABLE Empleados (idEmpleado INT PRIMARY KEY NOT NULL AUTO_INCREMENT, Nombre VARCHAR(45) NOT NULL, Tienda VARCHAR(45) NOT NULL, salario FLOAT, fecha_incorporacion DATE NOT NULL);\n",
    "            CREATE TABLE Facturas (idFactura INT PRIMARY KEY NOT NULL AUTO_INCREMENT, idEmpleado INT NOT NULL, idCliente INT NOT NULL, idZapatilla INT NOT NULL, Fecha DATE NOT NULL, Total FLOAT NOT NULL,\n",
    "                                    constraint fk_empleados foreign key (idEmpleado) references Empleados (idEmpleado), constraint fk_clientes foreign key (idCliente) references Clientes (idCliente), \n",
    "                                    constraint fk_zapatilla foreign key (idZapatillas) references Zapatillas (idZapatilla))\"\"\""
   ]
  },
  {
   "cell_type": "code",
   "execution_count": 6,
   "metadata": {},
   "outputs": [
    {
     "name": "stdout",
     "output_type": "stream",
     "text": [
      "CMySQLCursor: \n",
      "            CREATE TABLE Zapatillas (id..\n"
     ]
    }
   ],
   "source": [
    "crear_tablas(\"AlumnaAdalab\", \"mi_primera_BBDD_Python\",query_1)"
   ]
  }
 ],
 "metadata": {
  "kernelspec": {
   "display_name": "Python 3.9.12 ('base')",
   "language": "python",
   "name": "python3"
  },
  "language_info": {
   "codemirror_mode": {
    "name": "ipython",
    "version": 3
   },
   "file_extension": ".py",
   "mimetype": "text/x-python",
   "name": "python",
   "nbconvert_exporter": "python",
   "pygments_lexer": "ipython3",
   "version": "3.9.12"
  },
  "orig_nbformat": 4,
  "vscode": {
   "interpreter": {
    "hash": "8be240dc937e61b542e412c89351978950720d3fde5a0c37c158fb19f149fb89"
   }
  }
 },
 "nbformat": 4,
 "nbformat_minor": 2
}
