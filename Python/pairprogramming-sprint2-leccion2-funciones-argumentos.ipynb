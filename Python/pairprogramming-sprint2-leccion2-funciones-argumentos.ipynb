{
 "cells": [
  {
   "cell_type": "markdown",
   "metadata": {},
   "source": [
    "1. Vamos a crear una calculadora de puntos. Recibirá cadenas de caracteres como entrada. Los puntos representan el número de la ecuación. Habrá puntos a un lado, un operador y puntos de nuevo después del operador. Los puntos y el operador estarán separados por un espacio\""
   ]
  },
  {
   "cell_type": "code",
   "execution_count": 7,
   "metadata": {},
   "outputs": [],
   "source": [
    "def calculadora():\n",
    "    ecuacion = input(\"Escribe una serie de puntos, un operador *,+,- o // y otra serie de numeros, separados por espacios\").split(\" \")\n",
    "    punto = \".\"\n",
    "    if ecuacion[1] == \"*\":\n",
    "        resultado = ecuacion[0].count(\".\") * ecuacion[2].count(\".\")\n",
    "    elif ecuacion[1] == \"+\":\n",
    "        resultado = ecuacion[0].count(\".\") + ecuacion[2].count(\".\")\n",
    "    elif ecuacion[1] == \"-\":\n",
    "        resultado = ecuacion[0].count(\".\") - ecuacion[2].count(\".\")\n",
    "    else:   \n",
    "        resultado =ecuacion[0].count(\".\") // ecuacion[2].count(\".\")\n",
    "    solucion = resultado * punto\n",
    "    return f\"{ecuacion[0]} {ecuacion[1]} {ecuacion[2]} = {solucion}\""
   ]
  },
  {
   "cell_type": "markdown",
   "metadata": {},
   "source": [
    "Comprobando resultados"
   ]
  },
  {
   "cell_type": "code",
   "execution_count": 8,
   "metadata": {},
   "outputs": [
    {
     "data": {
      "text/plain": [
       "'..... + ............... = ....................'"
      ]
     },
     "execution_count": 8,
     "metadata": {},
     "output_type": "execute_result"
    }
   ],
   "source": [
    "calculadora()"
   ]
  },
  {
   "cell_type": "code",
   "execution_count": 9,
   "metadata": {},
   "outputs": [
    {
     "data": {
      "text/plain": [
       "'..... - ... = ..'"
      ]
     },
     "execution_count": 9,
     "metadata": {},
     "output_type": "execute_result"
    }
   ],
   "source": [
    "calculadora()"
   ]
  },
  {
   "cell_type": "code",
   "execution_count": 10,
   "metadata": {},
   "outputs": [
    {
     "data": {
      "text/plain": [
       "'..... * ... = ...............'"
      ]
     },
     "execution_count": 10,
     "metadata": {},
     "output_type": "execute_result"
    }
   ],
   "source": [
    "calculadora()"
   ]
  },
  {
   "cell_type": "code",
   "execution_count": 11,
   "metadata": {},
   "outputs": [
    {
     "data": {
      "text/plain": [
       "'..... // .. = ..'"
      ]
     },
     "execution_count": 11,
     "metadata": {},
     "output_type": "execute_result"
    }
   ],
   "source": [
    "calculadora()"
   ]
  },
  {
   "cell_type": "code",
   "execution_count": 12,
   "metadata": {},
   "outputs": [
    {
     "data": {
      "text/plain": [
       "'.. - .. = '"
      ]
     },
     "execution_count": 12,
     "metadata": {},
     "output_type": "execute_result"
    }
   ],
   "source": [
    "calculadora()"
   ]
  },
  {
   "cell_type": "markdown",
   "metadata": {},
   "source": [
    "2. Te despides de tu mejor amigo, \"Nos vemos el próximo año\". Encontramos el año más cercano en el que verás a tu mejor amigo que no tenga ningún dígito repetido "
   ]
  },
  {
   "cell_type": "code",
   "execution_count": 13,
   "metadata": {},
   "outputs": [],
   "source": [
    "def saludo(hoy,saludo= \"Nos vemos el próximo año\"):\n",
    "    if hoy > 0:\n",
    "        list_fecha = set([i for i in str(hoy)])\n",
    "        while len(list_fecha) < 4:\n",
    "            hoy += 1\n",
    "            list_fecha = set([i for i in str(hoy)])\n",
    "        return f\"{saludo}, {hoy}\"\n"
   ]
  },
  {
   "cell_type": "markdown",
   "metadata": {},
   "source": [
    "Comprobando resultados"
   ]
  },
  {
   "cell_type": "code",
   "execution_count": 14,
   "metadata": {},
   "outputs": [
    {
     "data": {
      "text/plain": [
       "'Nos vemos el próximo año, 7801'"
      ]
     },
     "execution_count": 14,
     "metadata": {},
     "output_type": "execute_result"
    }
   ],
   "source": [
    "saludo(7712)"
   ]
  },
  {
   "cell_type": "code",
   "execution_count": 15,
   "metadata": {},
   "outputs": [
    {
     "data": {
      "text/plain": [
       "'Nos vemos el próximo año, 1023'"
      ]
     },
     "execution_count": 15,
     "metadata": {},
     "output_type": "execute_result"
    }
   ],
   "source": [
    "saludo(1001)"
   ]
  },
  {
   "cell_type": "code",
   "execution_count": 16,
   "metadata": {},
   "outputs": [
    {
     "data": {
      "text/plain": [
       "'Nos vemos el próximo año, 1203'"
      ]
     },
     "execution_count": 16,
     "metadata": {},
     "output_type": "execute_result"
    }
   ],
   "source": [
    "saludo(1123)"
   ]
  },
  {
   "cell_type": "code",
   "execution_count": 17,
   "metadata": {},
   "outputs": [
    {
     "data": {
      "text/plain": [
       "'Nos vemos el próximo año, 2013'"
      ]
     },
     "execution_count": 17,
     "metadata": {},
     "output_type": "execute_result"
    }
   ],
   "source": [
    "saludo(2001)"
   ]
  },
  {
   "cell_type": "markdown",
   "metadata": {},
   "source": [
    "3. Creamos una función que chequee la vida de un evaporador que contiene un gas. Conocemos el contenido del evaporador (contenido en ml), el porcentaje de gas que se pierde cada día, y el umbral en porcentaje a partir del cual el evaporador deja de ser útil."
   ]
  },
  {
   "cell_type": "code",
   "execution_count": 18,
   "metadata": {},
   "outputs": [],
   "source": [
    "def evaporador(inicio, perdida, umbral):\n",
    "    # Definimos un contador con los días de duración del \n",
    "    contador = 0\n",
    "    # Creamos una variable llamada contenido con el valor total del evaporador\n",
    "    contenido = inicio\n",
    "    # Mientras que el mínimo que pueda tener (inicio*umbral/100) sea mayor que el contenido actual del evaporador, sigue funcionando\n",
    "    while (inicio*umbral/100) < contenido:\n",
    "        # Restamos al contenido el tanto por ciento que pierde al día\n",
    "        contenido = contenido - (contenido*perdida/100)\n",
    "        # Sumamos 1 al contador de días\n",
    "        contador += 1\n",
    "    return f\"Quedan {contador} días\""
   ]
  },
  {
   "cell_type": "markdown",
   "metadata": {},
   "source": [
    "Comprobando resultados"
   ]
  },
  {
   "cell_type": "code",
   "execution_count": 19,
   "metadata": {},
   "outputs": [
    {
     "data": {
      "text/plain": [
       "'Quedan 29 días'"
      ]
     },
     "execution_count": 19,
     "metadata": {},
     "output_type": "execute_result"
    }
   ],
   "source": [
    "evaporador(10,10,5)"
   ]
  },
  {
   "cell_type": "code",
   "execution_count": 20,
   "metadata": {},
   "outputs": [
    {
     "data": {
      "text/plain": [
       "'Quedan 22 días'"
      ]
     },
     "execution_count": 20,
     "metadata": {},
     "output_type": "execute_result"
    }
   ],
   "source": [
    "evaporador(10,10,10)"
   ]
  },
  {
   "cell_type": "markdown",
   "metadata": {},
   "source": [
    "4. Definid una función que tome como argumento un entero y devuelva True o False, dependiendo de si el número es primo o no. Un número primo solo es divisible por 1 y por sí mismo"
   ]
  },
  {
   "cell_type": "code",
   "execution_count": 30,
   "metadata": {},
   "outputs": [],
   "source": [
    "def es_primo(num):\n",
    "    # Si el número es mayor que 0\n",
    "    if num > 0:\n",
    "        # Si se puede dividir por sí mismo y por 1, es un número primo (sin dejar resto)\n",
    "        if num % num == 0 and num % 1 == 0:\n",
    "            return True\n",
    "    else:\n",
    "        return False"
   ]
  },
  {
   "cell_type": "markdown",
   "metadata": {},
   "source": [
    "Comprobando resultados"
   ]
  },
  {
   "cell_type": "code",
   "execution_count": 31,
   "metadata": {},
   "outputs": [
    {
     "data": {
      "text/plain": [
       "False"
      ]
     },
     "execution_count": 31,
     "metadata": {},
     "output_type": "execute_result"
    }
   ],
   "source": [
    "es_primo(0)"
   ]
  },
  {
   "cell_type": "code",
   "execution_count": 32,
   "metadata": {},
   "outputs": [
    {
     "data": {
      "text/plain": [
       "True"
      ]
     },
     "execution_count": 32,
     "metadata": {},
     "output_type": "execute_result"
    }
   ],
   "source": [
    "es_primo(2)"
   ]
  },
  {
   "cell_type": "code",
   "execution_count": 33,
   "metadata": {},
   "outputs": [
    {
     "data": {
      "text/plain": [
       "True"
      ]
     },
     "execution_count": 33,
     "metadata": {},
     "output_type": "execute_result"
    }
   ],
   "source": [
    "es_primo(73)"
   ]
  },
  {
   "cell_type": "code",
   "execution_count": 34,
   "metadata": {},
   "outputs": [
    {
     "data": {
      "text/plain": [
       "False"
      ]
     },
     "execution_count": 34,
     "metadata": {},
     "output_type": "execute_result"
    }
   ],
   "source": [
    "es_primo(-1)"
   ]
  },
  {
   "cell_type": "code",
   "execution_count": 35,
   "metadata": {},
   "outputs": [
    {
     "data": {
      "text/plain": [
       "True"
      ]
     },
     "execution_count": 35,
     "metadata": {},
     "output_type": "execute_result"
    }
   ],
   "source": [
    "es_primo(5099)"
   ]
  },
  {
   "cell_type": "markdown",
   "metadata": {},
   "source": [
    "5. Cread una función que tome una lista que contiene los nombres de las personas a las que les gusta un artículo, y devuelva el texto según lo indicado."
   ]
  },
  {
   "cell_type": "code",
   "execution_count": 1,
   "metadata": {},
   "outputs": [],
   "source": [
    "def le_gusta(*face):\n",
    "    # Si a nadie le gusta, imprime \"A nadie le gusta esto\"\n",
    "    if len(face) == 0:\n",
    "        return \"A nadie le gusta esto\"\n",
    "    # Si le gusta a una persona, imprime a \"Nombre\" le gusta\n",
    "    elif len(face) == 1:\n",
    "        return f\" A {face[0]} le gusta esto\"\n",
    "    # Si le gusta a dos personas, imprime \"A \"Nombre1\" y \"Nombre2\" les gusta esto\"\n",
    "    elif len(face) == 2:\n",
    "        return f\"A {face[0]} y {face[1]} les gusta esto\"\n",
    "    # Si le gusta a tres personas, imprime \"A \"Nombre1\", \"Nombre2\" y \"Nombre3\" les gusta esto\"\n",
    "    elif len(face) == 3:\n",
    "        return f\"A {face[0]}, {face[1]} y {face[2]} les gusta esto\"\n",
    "    # # Si le gusta a cuatro o más personas, imprime \"A \"Nombre1\" y \"Nombre2\" y 2.... más les gusta esto\"\n",
    "    else:\n",
    "        return f\"A {face[0]}, {face[1]} y {len(face)-2} más les gusta esto\""
   ]
  },
  {
   "cell_type": "code",
   "execution_count": 2,
   "metadata": {},
   "outputs": [],
   "source": [
    "gente1 = []\n",
    "gente2 = [\"Paola\"]\n",
    "gente3 = [\"Jacoba\", \"Alex\"]\n",
    "gente4 = [\"Maria\", \"Juana\", \"Lola\"]\n",
    "gente5 = [\"Alex\", \"Jacoba\", \"Lola\", \"Carmen\"]\n",
    "gente6 = [\"Alex\", \"Jacoba\", \"Lola\", \"Carmen\", \"Mariana\"]"
   ]
  },
  {
   "cell_type": "code",
   "execution_count": 11,
   "metadata": {},
   "outputs": [
    {
     "data": {
      "text/plain": [
       "'A Alex, Jacoba y 3 más les gusta esto'"
      ]
     },
     "execution_count": 11,
     "metadata": {},
     "output_type": "execute_result"
    }
   ],
   "source": [
    "le_gusta(*gente6)"
   ]
  }
 ],
 "metadata": {
  "kernelspec": {
   "display_name": "Python 3.10.7 64-bit",
   "language": "python",
   "name": "python3"
  },
  "language_info": {
   "codemirror_mode": {
    "name": "ipython",
    "version": 3
   },
   "file_extension": ".py",
   "mimetype": "text/x-python",
   "name": "python",
   "nbconvert_exporter": "python",
   "pygments_lexer": "ipython3",
   "version": "3.10.7"
  },
  "orig_nbformat": 4,
  "vscode": {
   "interpreter": {
    "hash": "406a9fc7a7dba53adca1282638880605939b6e7c641b86e3d78e2944bdfd1380"
   }
  }
 },
 "nbformat": 4,
 "nbformat_minor": 2
}
