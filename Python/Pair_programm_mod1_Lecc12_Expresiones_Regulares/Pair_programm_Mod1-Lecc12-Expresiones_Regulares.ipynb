{
 "cells": [
  {
   "cell_type": "code",
   "execution_count": 1,
   "metadata": {},
   "outputs": [],
   "source": [
    "# Importamos las librerías que necesitamos\n",
    "import re"
   ]
  },
  {
   "cell_type": "code",
   "execution_count": 2,
   "metadata": {},
   "outputs": [],
   "source": [
    "# Cargamos dentro la variable texto_email el archivo \"email.txt\" que necesitaremos para los ejercicios\n",
    "with open(\"email.txt\", \"r\") as f:\n",
    "    texto_email = f.read()\n",
    "    f.close()"
   ]
  },
  {
   "cell_type": "markdown",
   "metadata": {},
   "source": [
    "1. Dentro del archivo hay dos emails. \n",
    "Extraer el email de las personas que enviaron el email."
   ]
  },
  {
   "cell_type": "code",
   "execution_count": 10,
   "metadata": {},
   "outputs": [
    {
     "name": "stdout",
     "output_type": "stream",
     "text": [
      "['From: \"Mr. Ben Suleman\" <bensul2004nng@spinfinder.com>', 'From: \"MR. JAMES NGOLA.\" <james_ngola2002@maktoob.com>']\n"
     ]
    }
   ],
   "source": [
    "# Extraemos todo el texto desde \"From:\"\n",
    "info_remitente = re.findall(\"From:.*\", texto_email)\n",
    "print(info_remitente)"
   ]
  },
  {
   "cell_type": "code",
   "execution_count": 11,
   "metadata": {},
   "outputs": [
    {
     "name": "stdout",
     "output_type": "stream",
     "text": [
      "['bensul2004nng@spinfinder.com', 'james_ngola2002@maktoob.com']\n"
     ]
    }
   ],
   "source": [
    "# Extraemos solo la dirección de email del \"From:\"\n",
    "info_email = re.findall(\"\\w+@\\w+\\.\\w+\", str(info_remitente))\n",
    "print(info_email)"
   ]
  },
  {
   "cell_type": "markdown",
   "metadata": {},
   "source": [
    "2. Extraer el nombre de las personas que enviaron el email"
   ]
  },
  {
   "cell_type": "code",
   "execution_count": 14,
   "metadata": {},
   "outputs": [
    {
     "name": "stdout",
     "output_type": "stream",
     "text": [
      "['Mr. Ben Suleman', 'MR. JAMES NGOLA']\n"
     ]
    }
   ],
   "source": [
    "# De la variable info_remitente, extraemos ahora solo el nombre\n",
    "info_nombre = re.findall(\"M[rR]\\.\\s\\w+\\s\\w+\", str(info_remitente))\n",
    "print(info_nombre)"
   ]
  },
  {
   "cell_type": "markdown",
   "metadata": {},
   "source": [
    "3. El día en que se mandaron los emails"
   ]
  },
  {
   "cell_type": "code",
   "execution_count": 17,
   "metadata": {},
   "outputs": [
    {
     "name": "stdout",
     "output_type": "stream",
     "text": [
      "['Date: Thu, 31 Oct 2002 05:10:00', 'Date: Thu, 31 Oct 2002 02:38:20 +0000']\n"
     ]
    }
   ],
   "source": [
    "# Del texto original, extraemos toda la información de \"Date:\"\n",
    "info_fecha = re.findall(\"Date:.*\", texto_email)\n",
    "print(info_fecha)"
   ]
  },
  {
   "cell_type": "code",
   "execution_count": 19,
   "metadata": {},
   "outputs": [
    {
     "name": "stdout",
     "output_type": "stream",
     "text": [
      "['31 Oct 2002', '31 Oct 2002']\n"
     ]
    }
   ],
   "source": [
    "# Extraemos solo la fecha DDMMAAAA\n",
    "info_dia = re.findall(\"\\d+\\s\\w+\\s\\d+\", str(info_fecha))\n",
    "print(info_dia)"
   ]
  },
  {
   "cell_type": "markdown",
   "metadata": {},
   "source": [
    "4. El asunto de los emails"
   ]
  },
  {
   "cell_type": "code",
   "execution_count": 47,
   "metadata": {},
   "outputs": [
    {
     "name": "stdout",
     "output_type": "stream",
     "text": [
      "['Subject: URGENT ASSISTANCE /RELATIONSHIP (P)', 'Subject: URGENT BUSINESS ASSISTANCE AND PARTNERSHIP']\n"
     ]
    }
   ],
   "source": [
    "# Extraemos toda la información de \"Subject:\"\n",
    "info_asunto = re.findall(\"Subject:.*\", texto_email)\n",
    "print(info_asunto)"
   ]
  },
  {
   "cell_type": "code",
   "execution_count": 48,
   "metadata": {},
   "outputs": [
    {
     "name": "stdout",
     "output_type": "stream",
     "text": [
      "['URGENT ASSISTANCE /RELATIONSHIP (P)', 'URGENT BUSINESS ASSISTANCE AND PARTNERSHIP']\n"
     ]
    }
   ],
   "source": [
    "# Sustituimos el \"Subject:\" por \"\" para quedarnos solo con el texto del asunto\n",
    "asunto = re.sub(\"Subject: \",\"\", str(info_asunto))\n",
    "print(asunto)"
   ]
  },
  {
   "cell_type": "markdown",
   "metadata": {},
   "source": [
    "5. Guarda todos los resultados en un diccionario"
   ]
  },
  {
   "cell_type": "code",
   "execution_count": 49,
   "metadata": {},
   "outputs": [
    {
     "name": "stdout",
     "output_type": "stream",
     "text": [
      "['bensul2004nng@spinfinder.com', 'james_ngola2002@maktoob.com']\n",
      "['Mr. Ben Suleman', 'MR. JAMES NGOLA']\n",
      "['31 Oct 2002', '31 Oct 2002']\n",
      "['URGENT ASSISTANCE /RELATIONSHIP (P)', 'URGENT BUSINESS ASSISTANCE AND PARTNERSHIP']\n"
     ]
    }
   ],
   "source": [
    "# Comprobamos que estén todas las variables\n",
    "print(info_email)\n",
    "print(info_nombre)\n",
    "print(info_dia)\n",
    "print(asunto)"
   ]
  },
  {
   "cell_type": "code",
   "execution_count": 50,
   "metadata": {},
   "outputs": [
    {
     "name": "stdout",
     "output_type": "stream",
     "text": [
      "{'email': ['bensul2004nng@spinfinder.com', 'james_ngola2002@maktoob.com'], 'remitente': ['Mr. Ben Suleman', 'MR. JAMES NGOLA'], 'fecha': ['31 Oct 2002', '31 Oct 2002'], 'asunto': \"['URGENT ASSISTANCE /RELATIONSHIP (P)', 'URGENT BUSINESS ASSISTANCE AND PARTNERSHIP']\"}\n"
     ]
    }
   ],
   "source": [
    "# Creamos un diccionario al que llamamos email y guardamos en el él los valores obtenidos anteriormente\n",
    "dicc_email = {\"email\": info_email, \"remitente\": info_nombre, \"fecha\": info_dia, \"asunto\": asunto}\n",
    "print(dicc_email)"
   ]
  },
  {
   "cell_type": "markdown",
   "metadata": {},
   "source": [
    "BONUS: UTILIZAR FUNCIONES PARA CADA UNO DE LOS OBJETIVOS PLANTEADOS"
   ]
  },
  {
   "cell_type": "code",
   "execution_count": 3,
   "metadata": {},
   "outputs": [],
   "source": [
    "# Definimos la función para obtener los nombres de los emails\n",
    "def buscar_email(texto):\n",
    "\n",
    "    info_remitente = re.findall(\"From:.*\", texto)\n",
    "    print(info_remitente)\n",
    "    print(\"------------------\")\n",
    "    \n",
    "    info_email = re.findall(\"\\w+@\\w+\\.\\w+\", str(info_remitente))\n",
    "    print(info_email)\n"
   ]
  },
  {
   "cell_type": "code",
   "execution_count": 4,
   "metadata": {},
   "outputs": [
    {
     "name": "stdout",
     "output_type": "stream",
     "text": [
      "['From: \"Mr. Ben Suleman\" <bensul2004nng@spinfinder.com>', 'From: \"MR. JAMES NGOLA.\" <james_ngola2002@maktoob.com>']\n",
      "------------------\n",
      "['bensul2004nng@spinfinder.com', 'james_ngola2002@maktoob.com']\n"
     ]
    }
   ],
   "source": [
    "buscar_email(texto_email)"
   ]
  },
  {
   "cell_type": "code",
   "execution_count": 5,
   "metadata": {},
   "outputs": [],
   "source": [
    "# Definimos la función para obtener los nombres de los remitentes\n",
    "def buscar_nombre(texto):\n",
    "    info_remitente = re.findall(\"From:.*\", texto)\n",
    "    print(info_remitente)\n",
    "    print(\"------------------\")\n",
    "    \n",
    "    info_nombre = re.findall(\"M[rR]\\.\\s\\w+\\s\\w+\", str(info_remitente))\n",
    "    print(info_nombre)"
   ]
  },
  {
   "cell_type": "code",
   "execution_count": 6,
   "metadata": {},
   "outputs": [
    {
     "name": "stdout",
     "output_type": "stream",
     "text": [
      "['From: \"Mr. Ben Suleman\" <bensul2004nng@spinfinder.com>', 'From: \"MR. JAMES NGOLA.\" <james_ngola2002@maktoob.com>']\n",
      "------------------\n",
      "['Mr. Ben Suleman', 'MR. JAMES NGOLA']\n"
     ]
    }
   ],
   "source": [
    "buscar_nombre(texto_email)"
   ]
  },
  {
   "cell_type": "code",
   "execution_count": 7,
   "metadata": {},
   "outputs": [],
   "source": [
    "# Definimos la función para obtener el día en el que se enviaron los emails\n",
    "def buscar_dia(texto):\n",
    "    info_fecha = re.findall(\"Date:.*\", texto)\n",
    "    print(info_fecha)\n",
    "    print(\"------------------\")\n",
    "\n",
    "    info_dia = re.findall(\"\\d+\\s\\w+\\s\\d+\", str(info_fecha))\n",
    "    print(info_dia)"
   ]
  },
  {
   "cell_type": "code",
   "execution_count": 8,
   "metadata": {},
   "outputs": [
    {
     "name": "stdout",
     "output_type": "stream",
     "text": [
      "['Date: Thu, 31 Oct 2002 05:10:00', 'Date: Thu, 31 Oct 2002 02:38:20 +0000']\n",
      "------------------\n",
      "['31 Oct 2002', '31 Oct 2002']\n"
     ]
    }
   ],
   "source": [
    "buscar_dia(texto_email)"
   ]
  },
  {
   "cell_type": "code",
   "execution_count": 9,
   "metadata": {},
   "outputs": [],
   "source": [
    "# Definimos la función para extraer los textos del asunto\n",
    "def buscar_asunto(texto):\n",
    "    info_asunto = re.findall(\"Subject:.*\", texto)\n",
    "    print(info_asunto)\n",
    "    print(\"------------------\")\n",
    "    \n",
    "    asunto = re.sub(\"Subject: \",\"\", str(info_asunto))\n",
    "    print(asunto)\n"
   ]
  },
  {
   "cell_type": "code",
   "execution_count": 10,
   "metadata": {},
   "outputs": [
    {
     "name": "stdout",
     "output_type": "stream",
     "text": [
      "['Subject: URGENT ASSISTANCE /RELATIONSHIP (P)', 'Subject: URGENT BUSINESS ASSISTANCE AND PARTNERSHIP']\n",
      "------------------\n",
      "['URGENT ASSISTANCE /RELATIONSHIP (P)', 'URGENT BUSINESS ASSISTANCE AND PARTNERSHIP']\n"
     ]
    }
   ],
   "source": [
    "buscar_asunto(texto_email)"
   ]
  }
 ],
 "metadata": {
  "kernelspec": {
   "display_name": "Python 3.9.7 ('base')",
   "language": "python",
   "name": "python3"
  },
  "language_info": {
   "codemirror_mode": {
    "name": "ipython",
    "version": 3
   },
   "file_extension": ".py",
   "mimetype": "text/x-python",
   "name": "python",
   "nbconvert_exporter": "python",
   "pygments_lexer": "ipython3",
   "version": "3.9.7"
  },
  "orig_nbformat": 4,
  "vscode": {
   "interpreter": {
    "hash": "f25093244bacc7e62393c275f4a06a2027bcbdb9a67d7fe53680dbd2484adc03"
   }
  }
 },
 "nbformat": 4,
 "nbformat_minor": 2
}
