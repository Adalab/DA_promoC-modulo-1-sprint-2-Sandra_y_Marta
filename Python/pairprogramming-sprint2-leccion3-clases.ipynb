{
 "cells": [
  {
   "cell_type": "markdown",
   "metadata": {},
   "source": [
    "Creamos una clase llamada \"Empleados\" con los atributos nombre, apellido, edad, posición que ocupa en la empresa, y año en la que entró en la misma, número de días de vacaciones de que dispone y herramientas informáticas que utiliza.\n"
   ]
  },
  {
   "cell_type": "code",
   "execution_count": 31,
   "metadata": {},
   "outputs": [],
   "source": [
    "class Empleados:\n",
    "    # Definimos una clase empleados y su método constructor para definir sus atributos\n",
    "    def __init__(self,nombre, apellido, edad, posicion, inicio, vacaciones, herramientas):\n",
    "        self.nombre = nombre\n",
    "        self.apellido = apellido\n",
    "        self.edad = edad\n",
    "        self.posicion = posicion\n",
    "        self.inicio = inicio\n",
    "        self.vacaciones = vacaciones\n",
    "        self.herramientas = herramientas\n",
    "       "
   ]
  },
  {
   "cell_type": "markdown",
   "metadata": {},
   "source": [
    "Creamos una instancia para probarla:"
   ]
  },
  {
   "cell_type": "code",
   "execution_count": 40,
   "metadata": {},
   "outputs": [],
   "source": [
    "empleada = Empleados('Lorena', 'García', 27, 'directora general', 2020, 20, ['uscode', 'office'])"
   ]
  },
  {
   "cell_type": "code",
   "execution_count": 34,
   "metadata": {},
   "outputs": [
    {
     "data": {
      "text/plain": [
       "<__main__.Empleados at 0x7f9a3e5d8af0>"
      ]
     },
     "execution_count": 34,
     "metadata": {},
     "output_type": "execute_result"
    }
   ],
   "source": [
    "empleada"
   ]
  },
  {
   "cell_type": "code",
   "execution_count": 35,
   "metadata": {},
   "outputs": [
    {
     "data": {
      "text/plain": [
       "27"
      ]
     },
     "execution_count": 35,
     "metadata": {},
     "output_type": "execute_result"
    }
   ],
   "source": [
    "empleada.edad\n"
   ]
  },
  {
   "cell_type": "markdown",
   "metadata": {},
   "source": [
    "Ahora definimos los métodos:\n",
    "\n",
    "- Descripción\n",
    "- Cálculo vacaciones\n",
    "- Cambiando posición"
   ]
  },
  {
   "cell_type": "code",
   "execution_count": 45,
   "metadata": {},
   "outputs": [],
   "source": [
    "class Empleados:\n",
    "    # Definimos una clase empleados y su método constructor para definir sus atributos\n",
    "    def __init__(self,nombre, apellido, edad, posicion, inicio, vacaciones, herramientas):\n",
    "        self.nombre = nombre\n",
    "        self.apellido = apellido\n",
    "        self.edad = edad\n",
    "        self.posicion = posicion\n",
    "        self.inicio = inicio\n",
    "        self.vacaciones = vacaciones\n",
    "        self.herramientas = herramientas\n",
    "\n",
    "    # Creamos un método para describir el tiempo que lleva en la empresa y las vacaciones que le quedan\n",
    "    def descripcion(self):\n",
    "        return f'El/Ella, es {self.nombre} {self.apellido}, quien lleva con nosotros en la empresa desde {self.inicio}. Además este año le quedan {self.vacaciones} días de vacaciones'\n",
    "\n",
    "    # Creamos un método que le pregunte cuantos días de vacaciones se quiere coger\n",
    "    def calculo_vacaciones(self):\n",
    "        dias_quiero = int(input(\"¿Cuántos días te quieres coger de vacaciones?\"))\n",
    "        \n",
    "        # Si sus vacaciones pendientes son 0, le avisa que no le quedan días\n",
    "        if self.vacaciones == 0:\n",
    "            return \"No te quedan días\"\n",
    "        # Si quiere irse más días de los que le quedan, le decimos que no se puede ir\n",
    "        elif dias_quiero > self.vacaciones:\n",
    "            return \"No te puedes ir tantos días de vacaciones\"\n",
    "        # Si puede cogérselos, le imprime los días que le quedarían al final\n",
    "        else:\n",
    "            return f\"Te quedan {self.vacaciones - dias_quiero}\"     \n",
    "\n",
    "    # Creamos un método para iterar por la lista de herramientas informáticas que usa\n",
    "    def cambiando_posicion(self):\n",
    "        for i in self.herramientas:\n",
    "            # Si usa Python, le imprimimos \"Bien hecho!!\"\n",
    "            if i == \"Python\":\n",
    "                return \"bien hecho\"\n",
    "            # Si usa Excel, le decimos que se pase a SQL\n",
    "            elif i == \"Excel\":\n",
    "                return \"Por favor pásate a SQL\"\n"
   ]
  },
  {
   "cell_type": "code",
   "execution_count": 46,
   "metadata": {},
   "outputs": [],
   "source": [
    "empleada = Empleados('Lorena', 'García', 27, 'directora general', 2020, 20, ['uscode', 'office', 'Python'])"
   ]
  },
  {
   "cell_type": "code",
   "execution_count": 43,
   "metadata": {},
   "outputs": [
    {
     "data": {
      "text/plain": [
       "'bien hecho'"
      ]
     },
     "execution_count": 43,
     "metadata": {},
     "output_type": "execute_result"
    }
   ],
   "source": [
    "empleada.cambiando_posicion()"
   ]
  },
  {
   "cell_type": "code",
   "execution_count": 48,
   "metadata": {},
   "outputs": [
    {
     "data": {
      "text/plain": [
       "'No te puedes ir tantos días de vacaciones'"
      ]
     },
     "execution_count": 48,
     "metadata": {},
     "output_type": "execute_result"
    }
   ],
   "source": [
    "empleada.calculo_vacaciones()"
   ]
  }
 ],
 "metadata": {
  "kernelspec": {
   "display_name": "Python 3.9.7 ('base')",
   "language": "python",
   "name": "python3"
  },
  "language_info": {
   "codemirror_mode": {
    "name": "ipython",
    "version": 3
   },
   "file_extension": ".py",
   "mimetype": "text/x-python",
   "name": "python",
   "nbconvert_exporter": "python",
   "pygments_lexer": "ipython3",
   "version": "3.9.7"
  },
  "orig_nbformat": 4,
  "vscode": {
   "interpreter": {
    "hash": "0620710c65b0f5ccc651a2aa8870ae0eb4c70492424a8d7866846658189426a3"
   }
  }
 },
 "nbformat": 4,
 "nbformat_minor": 2
}
